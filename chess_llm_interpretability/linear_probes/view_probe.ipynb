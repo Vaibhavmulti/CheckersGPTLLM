{
 "cells": [
  {
   "cell_type": "code",
   "execution_count": 3,
   "metadata": {},
   "outputs": [
    {
     "name": "stdout",
     "output_type": "stream",
     "text": [
      "dict_keys(['linear_probe', 'final_loss', 'iters', 'epochs', 'acc', 'linear_probe_name', 'layer', 'indexing_function_name', 'batch_size', 'lr', 'wd', 'pos_start', 'num_epochs', 'num_games', 'modes', 'wandb_project', 'config_name', 'column_name', 'levels_of_interest', 'split', 'dataset_prefix', 'model_name', 'n_layers', 'wandb_run_name', 'player_color'])\n",
      "final_loss tensor(10.4620, requires_grad=True)\n",
      "iters 50000\n",
      "epochs 4\n",
      "acc tensor(0.8627)\n",
      "linear_probe_name checkers_piece_probe\n",
      "layer 6\n",
      "indexing_function_name find_dots_indices\n",
      "batch_size 2\n",
      "lr 0.001\n",
      "wd 0.01\n",
      "pos_start 0\n",
      "num_epochs 5\n",
      "num_games 10000\n",
      "modes 1\n",
      "wandb_project checkers_linear_probes\n",
      "config_name checkers_piece_probe\n",
      "column_name None\n",
      "levels_of_interest None\n",
      "split train\n",
      "dataset_prefix checkers_\n",
      "model_name tf_lens_CheckersHuman\n",
      "n_layers 8\n",
      "wandb_run_name checkers_piece_probe_tf_lens_CheckersHuman_layer_6_indexing_find_dots_indices_max_games_10000\n",
      "player_color White\n"
     ]
    }
   ],
   "source": [
    "import torch\n",
    "probe_name = \"tf_lens_CheckersHuman_checkers_piece_probe_layer_6.pth\"\n",
    "with open(probe_name, 'rb') as f:\n",
    "    state_dict = torch.load(f, map_location=torch.device('cpu'))\n",
    "    print(state_dict.keys())\n",
    "    for key in state_dict.keys():\n",
    "        if key != \"linear_probe\":\n",
    "            print(key, state_dict[key])"
   ]
  }
 ],
 "metadata": {
  "kernelspec": {
   "display_name": "othello",
   "language": "python",
   "name": "python3"
  },
  "language_info": {
   "codemirror_mode": {
    "name": "ipython",
    "version": 3
   },
   "file_extension": ".py",
   "mimetype": "text/x-python",
   "name": "python",
   "nbconvert_exporter": "python",
   "pygments_lexer": "ipython3",
   "version": "3.11.9"
  }
 },
 "nbformat": 4,
 "nbformat_minor": 2
}
